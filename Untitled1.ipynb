{
 "cells": [
  {
   "cell_type": "code",
   "execution_count": null,
   "id": "ad75505c",
   "metadata": {},
   "outputs": [],
   "source": [
    "# INPUT\n",
    "# action은 0 또는 1\n",
    "\n",
    "# OUTPUT\n",
    "# 다음 State, 보상, 정보 : 우리가 무엇을 위해서 학습하는지에 대한 것\n",
    "# done : 게임이 끝났는지 아닌지에 대한 boolean 타입의 값\n",
    "next_state, reward, done, info = env.step(action)\n",
    "\n",
    "# Deep Q Learning 을 위한 신경망 만들기\n",
    "# Sequential() 은 레이어를 쌓아줍니다.\n",
    "model = Sequential()\n",
    "# ‘Dense’ 는 신경망의 기본 form 입니다.\n",
    "# State 의 입력 사이즈는 size(4) 이고, 히든 레이어는 24개의 노드로 이루어집니다.\n",
    "model.add(Dense(24, input_dim=self.state_size, activation=’relu’))\n",
    "# 24개의 노드를 가진 히든 레이어\n",
    "model.add(Dense(24, activation=’relu’))\n",
    "# 출력 레이어 : 2개의 노드 (left, right)\n",
    "model.add(Dense(self.action_size, activation=’linear’))\n",
    "# 정보를 토대로 모델을 만듭니다.\n",
    "model.compile(loss=’mse’, optimizer=Adam(lr=self.learning_rate))\n",
    "\n",
    "# 학습\n",
    "model.fit(state, reward_value, epochs=1, verbose=0)\n",
    "\n",
    "# 예측\n",
    "prediction = model.predict(state)"
   ]
  },
  {
   "cell_type": "code",
   "execution_count": 3,
   "id": "9b59d75b",
   "metadata": {},
   "outputs": [],
   "source": [
    "import lakiaro_to_learning as lk"
   ]
  },
  {
   "cell_type": "code",
   "execution_count": 4,
   "id": "204cd5b1",
   "metadata": {},
   "outputs": [
    {
     "ename": "AttributeError",
     "evalue": "module 'lakiaro_to_learning' has no attribute 'a'",
     "output_type": "error",
     "traceback": [
      "\u001b[1;31m---------------------------------------------------------------------------\u001b[0m",
      "\u001b[1;31mAttributeError\u001b[0m                            Traceback (most recent call last)",
      "\u001b[1;32m<ipython-input-4-2372db8dad3c>\u001b[0m in \u001b[0;36m<module>\u001b[1;34m\u001b[0m\n\u001b[0;32m      1\u001b[0m \u001b[0ma\u001b[0m \u001b[1;33m=\u001b[0m \u001b[0mlk\u001b[0m\u001b[1;33m.\u001b[0m\u001b[0mrun_game\u001b[0m\u001b[1;33m(\u001b[0m\u001b[1;36m0.1\u001b[0m\u001b[1;33m,\u001b[0m\u001b[1;36m8\u001b[0m\u001b[1;33m)\u001b[0m\u001b[1;33m\u001b[0m\u001b[1;33m\u001b[0m\u001b[0m\n\u001b[1;32m----> 2\u001b[1;33m \u001b[0mlk\u001b[0m\u001b[1;33m.\u001b[0m\u001b[0ma\u001b[0m\u001b[1;33m.\u001b[0m\u001b[0mreset\u001b[0m\u001b[1;33m(\u001b[0m\u001b[1;33m)\u001b[0m\u001b[1;33m\u001b[0m\u001b[1;33m\u001b[0m\u001b[0m\n\u001b[0m",
      "\u001b[1;31mAttributeError\u001b[0m: module 'lakiaro_to_learning' has no attribute 'a'"
     ]
    }
   ],
   "source": [
    "a = lk.run_game(0.1,8)\n",
    "lk.a.reset()"
   ]
  },
  {
   "cell_type": "code",
   "execution_count": null,
   "id": "ed76eb26",
   "metadata": {},
   "outputs": [],
   "source": []
  }
 ],
 "metadata": {
  "kernelspec": {
   "display_name": "Python 3",
   "language": "python",
   "name": "python3"
  },
  "language_info": {
   "codemirror_mode": {
    "name": "ipython",
    "version": 3
   },
   "file_extension": ".py",
   "mimetype": "text/x-python",
   "name": "python",
   "nbconvert_exporter": "python",
   "pygments_lexer": "ipython3",
   "version": "3.7.10"
  }
 },
 "nbformat": 4,
 "nbformat_minor": 5
}
