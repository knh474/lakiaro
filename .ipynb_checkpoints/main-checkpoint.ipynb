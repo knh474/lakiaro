{
 "cells": [
  {
   "cell_type": "code",
<<<<<<< HEAD
   "execution_count": 3,
=======
   "execution_count": 4,
>>>>>>> e690666fcfd5a7aa8ba93e0c86fef29399c70370
   "id": "f81aa6cf",
   "metadata": {},
   "outputs": [
    {
     "data": {
      "text/plain": [
       "(7, 0)"
      ]
     },
<<<<<<< HEAD
     "execution_count": 3,
=======
     "execution_count": 4,
>>>>>>> e690666fcfd5a7aa8ba93e0c86fef29399c70370
     "metadata": {},
     "output_type": "execute_result"
    }
   ],
<<<<<<< HEAD
   "source": [
    "import pygame as pg\n",
    "pg.init()"
   ]
  },
  {
   "cell_type": "code",
   "execution_count": null,
   "id": "cbf444c3",
   "metadata": {},
   "outputs": [],
   "source": [
=======
   "source": []
  },
  {
   "cell_type": "code",
   "execution_count": 1,
   "id": "bf5a37e4",
   "metadata": {},
   "outputs": [
    {
     "name": "stdout",
     "output_type": "stream",
     "text": [
      "pygame 2.0.1 (SDL 2.0.14, Python 3.7.10)\n",
      "Hello from the pygame community. https://www.pygame.org/contribute.html\n"
     ]
    },
    {
     "ename": "SystemExit",
     "evalue": "",
     "output_type": "error",
     "traceback": [
      "An exception has occurred, use %tb to see the full traceback.\n",
      "\u001b[1;31mSystemExit\u001b[0m\n"
     ]
    },
    {
     "name": "stderr",
     "output_type": "stream",
     "text": [
      "C:\\Anaconda3\\envs\\py37_64\\lib\\site-packages\\IPython\\core\\interactiveshell.py:3445: UserWarning: To exit: use 'exit', 'quit', or Ctrl-D.\n",
      "  warn(\"To exit: use 'exit', 'quit', or Ctrl-D.\", stacklevel=1)\n"
     ]
    }
   ],
   "source": [
    "import pygame\n",
    "import sys\n",
    "\n",
    "pygame.init()\n",
>>>>>>> e690666fcfd5a7aa8ba93e0c86fef29399c70370
    "# Define the colors we will use in RGB format\n",
    "BLACK= ( 0,  0,  0)\n",
    "WHITE= (255,255,255)\n",
    "BLUE = ( 0,  0,255)\n",
    "GREEN= ( 0,255,  0)\n",
    "RED  = (255,  0,  0)\n",
    " \n",
    "# Set the height and width of the screen\n",
<<<<<<< HEAD
    "size  = [400,300]\n",
    "screen= pygame.display.set_mode(size)\n",
    "  \n",
    "pygame.display.set_caption(\"Game Title\")\n",
    "  \n",
    "#Loop until the user clicks the close button.\n",
    "done= False\n",
    "clock= pygame.time.Clock()\n"
   ]
=======
    "size  = [600,600]\n",
    "screen= pygame.display.set_mode(size)\n",
    "  \n",
    "pygame.display.set_caption(\"Lakiaro\")\n",
    "  \n",
    "#Loop until the user clicks the close button.\n",
    "done= False\n",
    "clock= pygame.time.Clock()\n",
    "\n",
    "while not done:\n",
    "  \n",
    "    # This limits the while loop to a max of 10 times per second.\n",
    "    # Leave this out and we will use all CPU we can.\n",
    "    clock.tick(10)\n",
    "     \n",
    "    # Main Event Loop\n",
    "    for event in pygame.event.get():# User did something\n",
    "        if event.type == pygame.QUIT:# If user clicked close\n",
    "            pygame.quit()\n",
    "            sys.exit()\n",
    "            done=True # Flag that we are done so we exit this loop\n",
    "  \n",
    "    # All drawing code happens after the for loop and but\n",
    "    # inside the main while done==False loop.\n",
    "      \n",
    "    # Clear the screen and set the screen background\n",
    "    screen.fill(WHITE)\n",
    " \n",
    "    '''\n",
    "    Your Work.....\n",
    "    '''\n",
    "    pygame.draw.polygon(screen, GREEN, [[30,150], [125,100], [220,150]],5)\n",
    "    pygame.draw.polygon(screen, GREEN, [[30,150], [125,100], [220,150]],0)\n",
    "    pygame.draw.lines(screen, RED,False, [[50,150], [50,250], [200,250], [200,150]],5)\n",
    "    pygame.draw.rect(screen, BLACK, [75,175,75,50],5)\n",
    "    pygame.draw.rect(screen, BLUE, [75,175,75,50],0)\n",
    "    pygame.draw.line(screen, BLACK, [112,175], [112,225],5)\n",
    "    pygame.draw.line(screen, BLACK, [75,200], [150,200],5)\n",
    " \n",
    "    # Go ahead and update the screen with what we've drawn.\n",
    "    # This MUST happen after all the other drawing commands.\n",
    "    pygame.display.flip()\n"
   ]
  },
  {
   "cell_type": "code",
   "execution_count": 6,
   "id": "366fc20f",
   "metadata": {},
   "outputs": [],
   "source": [
    "\n"
   ]
  },
  {
   "cell_type": "code",
   "execution_count": null,
   "id": "211ce256",
   "metadata": {},
   "outputs": [],
   "source": []
>>>>>>> e690666fcfd5a7aa8ba93e0c86fef29399c70370
  }
 ],
 "metadata": {
  "kernelspec": {
   "display_name": "Python 3",
   "language": "python",
   "name": "python3"
  },
  "language_info": {
   "codemirror_mode": {
    "name": "ipython",
    "version": 3
   },
   "file_extension": ".py",
   "mimetype": "text/x-python",
   "name": "python",
   "nbconvert_exporter": "python",
   "pygments_lexer": "ipython3",
<<<<<<< HEAD
   "version": "3.7.10"
=======
   "version": "3.8.8"
>>>>>>> e690666fcfd5a7aa8ba93e0c86fef29399c70370
  }
 },
 "nbformat": 4,
 "nbformat_minor": 5
}
