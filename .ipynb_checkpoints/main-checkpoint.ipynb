{
 "cells": [
  {
   "cell_type": "code",
   "execution_count": 3,
   "id": "f81aa6cf",
   "metadata": {},
   "outputs": [
    {
     "data": {
      "text/plain": [
       "(7, 0)"
      ]
     },
     "execution_count": 3,
     "metadata": {},
     "output_type": "execute_result"
    }
   ],
   "source": [
    "import pygame as pg\n",
    "pg.init()"
   ]
  },
  {
   "cell_type": "code",
   "execution_count": null,
   "id": "cbf444c3",
   "metadata": {},
   "outputs": [],
   "source": [
    "# Define the colors we will use in RGB format\n",
    "BLACK= ( 0,  0,  0)\n",
    "WHITE= (255,255,255)\n",
    "BLUE = ( 0,  0,255)\n",
    "GREEN= ( 0,255,  0)\n",
    "RED  = (255,  0,  0)\n",
    " \n",
    "# Set the height and width of the screen\n",
    "size  = [400,300]\n",
    "screen= pygame.display.set_mode(size)\n",
    "  \n",
    "pygame.display.set_caption(\"Game Title\")\n",
    "  \n",
    "#Loop until the user clicks the close button.\n",
    "done= False\n",
    "clock= pygame.time.Clock()\n"
   ]
  }
 ],
 "metadata": {
  "kernelspec": {
   "display_name": "Python 3",
   "language": "python",
   "name": "python3"
  },
  "language_info": {
   "codemirror_mode": {
    "name": "ipython",
    "version": 3
   },
   "file_extension": ".py",
   "mimetype": "text/x-python",
   "name": "python",
   "nbconvert_exporter": "python",
   "pygments_lexer": "ipython3",
   "version": "3.7.10"
  }
 },
 "nbformat": 4,
 "nbformat_minor": 5
}
