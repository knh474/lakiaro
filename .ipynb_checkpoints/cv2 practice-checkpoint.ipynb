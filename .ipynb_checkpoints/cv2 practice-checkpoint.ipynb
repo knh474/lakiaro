{
 "cells": [
  {
   "cell_type": "code",
   "execution_count": 1,
   "id": "86b35bf8",
   "metadata": {},
   "outputs": [],
   "source": [
    "import sys\n",
    "import numpy as np\n",
    "from PyQt5.QtWidgets import QApplication, QWidget, QLabel, QVBoxLayout\n",
    "from PyQt5.QtGui import QPixmap, QImage\n",
    "from PyQt5.QtCore import Qt\n",
    "import cv2\n",
    "import time"
   ]
  },
  {
   "cell_type": "code",
   "execution_count": 2,
   "id": "9e405423",
   "metadata": {},
   "outputs": [
    {
     "ename": "SystemExit",
     "evalue": "0",
     "output_type": "error",
     "traceback": [
      "An exception has occurred, use %tb to see the full traceback.\n",
      "\u001b[1;31mSystemExit\u001b[0m\u001b[1;31m:\u001b[0m 0\n"
     ]
    },
    {
     "name": "stderr",
     "output_type": "stream",
     "text": [
      "C:\\Anaconda3\\envs\\py37_64\\lib\\site-packages\\IPython\\core\\interactiveshell.py:3445: UserWarning: To exit: use 'exit', 'quit', or Ctrl-D.\n",
      "  warn(\"To exit: use 'exit', 'quit', or Ctrl-D.\", stacklevel=1)\n"
     ]
    }
   ],
   "source": [
    "class MyApp(QWidget):\n",
    "\n",
    "    def __init__(self):\n",
    "        super().__init__()\n",
    "\n",
    "        self.initUI()\n",
    "\n",
    "    def initUI(self):\n",
    "\n",
    "        imageFile = './image/wooden.jpg'\n",
    "\n",
    "        board_cv2 = cv2.imread('source/board.png')\n",
    "        self.board_cv2 = cv2.cvtColor(board_cv2, cv2.COLOR_BGR2RGB)\n",
    "\n",
    "        white_ball = cv2.imread('source/white.png')\n",
    "        self.white_ball = cv2.cvtColor(white_ball, cv2.COLOR_BGR2RGB)\n",
    "\n",
    "        black_ball = cv2.imread('source/black.png')\n",
    "        self.black_ball = cv2.cvtColor(black_ball, cv2.COLOR_BGR2RGB)\n",
    "\n",
    "        # numpy to QImage\n",
    "        height, width, channel = self.board_cv2.shape\n",
    "        bytesPerLine = 3 * width\n",
    "        qImg_board = QImage(self.board_cv2.data, width, height, bytesPerLine, QImage.Format_RGB888)\n",
    "        \n",
    "        self.lbl_img = QLabel()\n",
    "        self.lbl_img.setPixmap(QPixmap(qImg_board))\n",
    "\n",
    "        self.vbox = QVBoxLayout()\n",
    "        self.vbox.addWidget(self.lbl_img)\n",
    "        self.setLayout(self.vbox)\n",
    "        \n",
    "        self.setWindowTitle('시뮬레이션')\n",
    "        self.move(100, 100)\n",
    "        self.resize(500,500)\n",
    "        self.show()\n",
    "if __name__ == '__main__':\n",
    "\n",
    "    app = QApplication(sys.argv)\n",
    "    ex = MyApp()\n",
    "    sys.exit(app.exec_())"
   ]
  },
  {
   "cell_type": "code",
   "execution_count": null,
   "id": "62225c72",
   "metadata": {},
   "outputs": [],
   "source": []
  }
 ],
 "metadata": {
  "kernelspec": {
   "display_name": "Python 3",
   "language": "python",
   "name": "python3"
  },
  "language_info": {
   "codemirror_mode": {
    "name": "ipython",
    "version": 3
   },
   "file_extension": ".py",
   "mimetype": "text/x-python",
   "name": "python",
   "nbconvert_exporter": "python",
   "pygments_lexer": "ipython3",
   "version": "3.7.10"
  }
 },
 "nbformat": 4,
 "nbformat_minor": 5
}
