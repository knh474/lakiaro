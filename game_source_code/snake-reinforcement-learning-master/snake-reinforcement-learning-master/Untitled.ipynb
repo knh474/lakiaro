{
 "cells": [
  {
   "cell_type": "code",
   "execution_count": 1,
   "id": "fff94dfb",
   "metadata": {},
   "outputs": [
    {
     "name": "stderr",
     "output_type": "stream",
     "text": [
      "Traceback (most recent call last):\n",
      "  File \"play.py\", line 2, in <module>\n",
      "    from dqn_trainer import DQNTrainer\n",
      "  File \"D:\\[Python]\\snake-reinforcement-learning-master\\snake-reinforcement-learning-master\\dqn_trainer.py\", line 3, in <module>\n",
      "    import tensorflow as tf\n",
      "ModuleNotFoundError: No module named 'tensorflow'\n"
     ]
    }
   ],
   "source": [
    "!python play.py"
   ]
  },
  {
   "cell_type": "code",
   "execution_count": null,
   "id": "2fe24df4",
   "metadata": {},
   "outputs": [],
   "source": []
  }
 ],
 "metadata": {
  "kernelspec": {
   "display_name": "Python 3",
   "language": "python",
   "name": "python3"
  },
  "language_info": {
   "codemirror_mode": {
    "name": "ipython",
    "version": 3
   },
   "file_extension": ".py",
   "mimetype": "text/x-python",
   "name": "python",
   "nbconvert_exporter": "python",
   "pygments_lexer": "ipython3",
   "version": "3.8.8"
  }
 },
 "nbformat": 4,
 "nbformat_minor": 5
}
