{
 "cells": [
  {
   "cell_type": "code",
   "execution_count": 5,
   "id": "50e5bdc1",
   "metadata": {},
   "outputs": [],
   "source": [
    "from matplotlib import pyplot as plt\n",
    "import random as rd"
   ]
  },
  {
   "cell_type": "code",
   "execution_count": 21,
   "id": "e0b4d931",
   "metadata": {
    "scrolled": true
   },
   "outputs": [
    {
     "data": {
      "image/png": "[encoded data removed]",
      "text/plain": [
       "<Figure size 432x288 with 1 Axes>"
      ]
     },
     "metadata": {
      "needs_background": "light"
     },
     "output_type": "display_data"
    },
    {
     "name": "stdout",
     "output_type": "stream",
     "text": [
      "75\n"
     ]
    }
   ],
   "source": [
    "class circle():\n",
    "    \n",
    "    def __init__(self):\n",
    "        self.score = 0\n",
    "        self.x=[]\n",
    "        self.y=[]\n",
    "        \n",
    "    def input_xy(self,x,y):\n",
    "        \n",
    "        if x**2 +y**2 <=1:\n",
    "            self.x.append(x)\n",
    "            self.y.append(y)\n",
    "            self.score +=1\n",
    "    \n",
    "    def to_graph(self):\n",
    "        plt.plot(self.x, self.y,'or')\n",
    "        plt.show()\n",
    "        print(self.score)\n",
    "\n",
    "class randomize_xy():\n",
    "    \n",
    "    def __init__(self,n):\n",
    "        self.a = circle()\n",
    "        for i in range(n):\n",
    "            x = rd.uniform(-1, 1)\n",
    "            y = rd.uniform(-1, 1)\n",
    "            self.a.input_xy(x,y)\n",
    "    \n",
    "    def get_return(self):\n",
    "        self.a.to_graph()\n",
    "        \n",
    "if __name__ == '__main__':\n",
    "    a = randomize_xy(100)\n",
    "    a.get_return()\n",
    "    \n",
    "    "
   ]
  },
  {
   "cell_type": "code",
   "execution_count": null,
   "id": "bfc25904",
   "metadata": {},
   "outputs": [],
   "source": []
  }
 ],
 "metadata": {
  "kernelspec": {
   "display_name": "Python 3",
   "language": "python",
   "name": "python3"
  },
  "language_info": {
   "codemirror_mode": {
    "name": "ipython",
    "version": 3
   },
   "file_extension": ".py",
   "mimetype": "text/x-python",
   "name": "python",
   "nbconvert_exporter": "python",
   "pygments_lexer": "ipython3",
   "version": "3.7.10"
  }
 },
 "nbformat": 4,
 "nbformat_minor": 5
}
