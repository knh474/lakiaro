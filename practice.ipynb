{
 "cells": [
  {
   "cell_type": "code",
   "execution_count": 33,
   "id": "c1d0ae01",
   "metadata": {},
   "outputs": [],
   "source": [
    "from tensorflow.keras.models import Sequential\n",
    "from tensorflow.keras.layers import Dense\n",
    "import numpy as np\n",
    "import pandas as pd\n",
    "import random as rd"
   ]
  },
  {
   "cell_type": "code",
   "execution_count": 2,
   "id": "998df7cb",
   "metadata": {},
   "outputs": [
    {
     "data": {
      "text/plain": [
       "'3.7.10 (default, Feb 26 2021, 13:06:18) [MSC v.1916 64 bit (AMD64)]'"
      ]
     },
     "execution_count": 2,
     "metadata": {},
     "output_type": "execute_result"
    }
   ],
   "source": [
    "import sys\n",
    "sys.version"
   ]
  },
  {
   "cell_type": "code",
   "execution_count": 7,
   "id": "6bde1d93",
   "metadata": {},
   "outputs": [
    {
     "name": "stdout",
     "output_type": "stream",
     "text": [
      "y: [ 3  5  7  9 11] ,predict: [ 2.6901238  4.808836   6.927548   9.04626   11.164971 ]\n"
     ]
    }
   ],
   "source": [
    "x = np.array([1, 2, 3, 4, 5])\n",
    "y = x * 2 + 1\n",
    "\n",
    "# 학습 구조 모델링\n",
    "model = Sequential()\n",
    "model.add(Dense(1, input_shape=(1,)))\n",
    "model.compile('SGD', 'mse')\n",
    "\n",
    "# 학습 수행\n",
    "model.fit(x, y, epochs=100, verbose=0) #verbose 학습진행여부\n",
    "\n",
    "# 평가\n",
    "print('y:', y, ',predict:', model.predict(x).flatten())\n"
   ]
  },
  {
   "cell_type": "code",
   "execution_count": 22,
   "id": "94af5c0c",
   "metadata": {},
   "outputs": [
    {
     "name": "stdout",
     "output_type": "stream",
     "text": [
      "[[95 95 95 95 95 95 95 95 95 95 95 95]\n",
      " [95 95 95 95 95 95 95 95 95 95 95 95]\n",
      " [95 95 95 95 95 95 95 95 95 95 95 95]\n",
      " [95 95 95 95 95 95 95 95 95 95 95 95]\n",
      " [95 95 95 95 99 99 99 99 95 95 95 95]\n",
      " [95 95 95 95 99 99 99 99 95 95 95 95]\n",
      " [95 95 95 95 99 99 99 99 95 95 95 95]\n",
      " [95 95 95 95 99 99 99 99 95 95 95 95]\n",
      " [95 95 95 95 95 95 95 95 95 95 95 95]\n",
      " [95 95 95 95 95 95 95 95 95 95 95 95]\n",
      " [95 95 95 95 95 95 95 95 95 95 95 95]\n",
      " [95 95 95 95 95 95 95 95 95 95 95 95]]\n",
      "    0   1   2   3   4   5   6   7   8   9   10  11\n",
      "0   95  95  95  95  95  95  95  95  95  95  95  95\n",
      "1   95  95  95  95  95  95  95  95  95  95  95  95\n",
      "2   95  95  95  95  95  95  95  95  95  95  95  95\n",
      "3   95  95  95  95  95  95  95  95  95  95  95  95\n",
      "4   95  95  95  95  99  99  99  99  95  95  95  95\n",
      "5   95  95  95  95  99  99  99  99  95  95  95  95\n",
      "6   95  95  95  95  99  99  99  99  95  95  95  95\n",
      "7   95  95  95  95  99  99  99  99  95  95  95  95\n",
      "8   95  95  95  95  95  95  95  95  95  95  95  95\n",
      "9   95  95  95  95  95  95  95  95  95  95  95  95\n",
      "10  95  95  95  95  95  95  95  95  95  95  95  95\n",
      "11  95  95  95  95  95  95  95  95  95  95  95  95\n"
     ]
    }
   ],
   "source": [
    "a=np.full((12,12),95)\n",
    "a[4:8,4:8] = 99\n",
    "print(a)\n",
    "df = pd.DataFrame(a)\n",
    "print(df)"
   ]
  },
  {
   "cell_type": "code",
   "execution_count": 29,
   "id": "bde0fa20",
   "metadata": {},
   "outputs": [
    {
     "ename": "SyntaxError",
     "evalue": "invalid token (<ipython-input-29-f1783ef3210c>, line 1)",
     "output_type": "error",
     "traceback": [
      "\u001b[1;36m  File \u001b[1;32m\"<ipython-input-29-f1783ef3210c>\"\u001b[1;36m, line \u001b[1;32m1\u001b[0m\n\u001b[1;33m    a= 0111000111111\u001b[0m\n\u001b[1;37m                   ^\u001b[0m\n\u001b[1;31mSyntaxError\u001b[0m\u001b[1;31m:\u001b[0m invalid token\n"
     ]
    }
   ],
   "source": [
    "a= 0111000111111\n",
    "print(type(a))"
   ]
  },
  {
   "cell_type": "code",
   "execution_count": 41,
   "id": "4d5be1c4",
   "metadata": {},
   "outputs": [
    {
     "name": "stdout",
     "output_type": "stream",
     "text": [
      "3\n"
     ]
    }
   ],
   "source": [
    "print(rd.randint(1,12))\n",
    "input_xy_list=[]"
   ]
  },
  {
   "cell_type": "code",
   "execution_count": null,
   "id": "60fe673b",
   "metadata": {},
   "outputs": [],
   "source": [
    "\n",
    "while True:\n",
    "    x = rd.randint(1,12)\n",
    "    y = rd.randint(1,12)\n",
    "    if x > 4 and x <9 and y >4 and y<9:\n",
    "        pass\n",
    "    elif (x,y) not in input_xy_list:\n",
    "        input_xy_list.append((x,y))\n",
    "        break\n",
    "print(input_xy_list)"
   ]
  },
  {
   "cell_type": "code",
   "execution_count": null,
   "id": "f6eee71c",
   "metadata": {},
   "outputs": [],
   "source": []
  },
  {
   "cell_type": "code",
   "execution_count": null,
   "id": "5f54b459",
   "metadata": {},
   "outputs": [],
   "source": []
  }
 ],
 "metadata": {
  "kernelspec": {
   "display_name": "Python 3",
   "language": "python",
   "name": "python3"
  },
  "language_info": {
   "codemirror_mode": {
    "name": "ipython",
    "version": 3
   },
   "file_extension": ".py",
   "mimetype": "text/x-python",
   "name": "python",
   "nbconvert_exporter": "python",
   "pygments_lexer": "ipython3",
   "version": "3.7.10"
  }
 },
 "nbformat": 4,
 "nbformat_minor": 5
}
