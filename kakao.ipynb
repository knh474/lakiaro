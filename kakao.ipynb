{
 "cells": [
  {
   "cell_type": "code",
   "execution_count": null,
   "id": "196ed16b",
   "metadata": {},
   "outputs": [],
   "source": [
    "# practice_1\n",
    "# 아이디의 길이는 3자 이상 15자 이하여야 합니다.\n",
    "# 아이디는 알파벳 소문자, 숫자, 빼기(-), 밑줄(_), 마침표(.) 문자만 사용할 수 있습니다.\n",
    "# 단, 마침표(.)는 처음과 끝에 사용할 수 없으며 또한 연속으로 사용할 수 없습니다.\n",
    "# “네오”는 다음과 같이 7단계의 순차적인 처리 과정을 통해 신규 유저가 입력한 아이디가 카카오 아이디 규칙에 맞는지 검사하고 규칙에 맞지 않은 경우 규칙에 맞는 새로운 아이디를 추천해 주려고 합니다.\n",
    "# 신규 유저가 입력한 아이디가 new_id라고 한다면,\n",
    "\n",
    "#  1단계 new_id의 모든 대문자를 대응되는 소문자로 치환합니다.\n",
    "#  2단계 new_id에서 알파벳 소문자, 숫자, 빼기(-), 밑줄(_), 마침표(.)를 제외한 모든 문자를 제거합니다.\n",
    "#  3단계 new_id에서 마침표(.)가 2번 이상 연속된 부분을 하나의 마침표(.)로 치환합니다.\n",
    "#  4단계 new_id에서 마침표(.)가 처음이나 끝에 위치한다면 제거합니다.\n",
    "#  5단계 new_id가 빈 문자열이라면, new_id에 \"a\"를 대입합니다.\n",
    "#  6단계 new_id의 길이가 16자 이상이면, new_id의 첫 15개의 문자를 제외한 나머지 문자들을 모두 제거합니다.\n",
    "#       만약 제거 후 마침표(.)가 new_id의 끝에 위치한다면 끝에 위치한 마침표(.) 문자를 제거합니다.\n",
    "#  7단계 new_id의 길이가 2자 이하라면, new_id의 마지막 문자를 new_id의 길이가 3이 될 때까지 반복해서 끝에 붙입니다.\n",
    "# new_id는 길이 1 이상 1,000 이하인 문자열입니다.\n",
    "# new_id는 알파벳 대문자, 알파벳 소문자, 숫자, 특수문자로 구성되어 있습니다.\n",
    "# new_id에 나타날 수 있는 특수문자는 -_.~!@#$%^&*()=+[{]}:?,<>/ 로 한정됩니다.\n",
    "# 예1\t\"...!@BaT#*..y.abcdefghijklm\"\t\"bat.y.abcdefghi\"\n",
    "# 예2\t\"z-+.^.\"\t\"z--\"\n",
    "# 예3\t\"=.=\"\t\"aaa\"\n",
    "# 예4\t\"123_.def\"\t\"123_.def\"\n",
    "# 예5\t\"abcdefghijklmn.p\"\t\"abcdefghijklmn\""
   ]
  },
  {
   "cell_type": "code",
   "execution_count": 46,
   "id": "05975d58",
   "metadata": {
    "collapsed": true
   },
   "outputs": [
    {
     "name": "stdout",
     "output_type": "stream",
     "text": [
      "#1  ...!@bat#*..y.abcdefghijklm\n",
      "#2  ...bat..y.abcdefghijklm\n",
      "#3  .bat.y.abcdefghijklm\n",
      "#4  bat.y.abcdefghijklm\n",
      "#5  bat.y.abcdefghijklm\n",
      "#6  bat.y.abcdefghi\n",
      "#7  bat.y.abcdefghi \n",
      "\n",
      "#1  z-+.^.\n",
      "#2  z-..\n",
      "#3  z-.\n",
      "#4  z-\n",
      "#5  z-\n",
      "#6  z-\n",
      "#7  z-- \n",
      "\n",
      "#1  =.=\n",
      "#2  .\n",
      "#3  .\n",
      "#4  \n",
      "#5  a\n",
      "#6  a\n",
      "#7  aaa \n",
      "\n",
      "#1  123_.def\n",
      "#2  123_.def\n",
      "#3  123_.def\n",
      "#4  123_.def\n",
      "#5  123_.def\n",
      "#6  123_.def\n",
      "#7  123_.def \n",
      "\n",
      "#1  abcdefghijklmn.p\n",
      "#2  abcdefghijklmn.p\n",
      "#3  abcdefghijklmn.p\n",
      "#4  abcdefghijklmn.p\n",
      "#5  abcdefghijklmn.p\n",
      "#6  abcdefghijklmn\n",
      "#7  abcdefghijklmn \n",
      "\n"
     ]
    },
    {
     "data": {
      "text/plain": [
       "'abcdefghijklmn'"
      ]
     },
     "execution_count": 46,
     "metadata": {},
     "output_type": "execute_result"
    }
   ],
   "source": [
    "import re\n",
    "\n",
    "def practice_1(new_id):\n",
    "    #1\n",
    "    new_id = new_id.lower()\n",
    "    print('#1 ',new_id)\n",
    "    #2\n",
    "    q = re.compile('[a-zA-Z-_.0-9]+')\n",
    "    p = q.findall(new_id)\n",
    "    new_id =''.join(p)\n",
    "    print('#2 ', new_id)\n",
    "    #3\n",
    "    new_id = re.sub('\\.{2,}',\".\",new_id)\n",
    "    print('#3 ', new_id)\n",
    "    #4\n",
    "    first = new_id[:1]\n",
    "    last = new_id[-1:]\n",
    "    if first == '.':\n",
    "        new_id = new_id[1:]\n",
    "    if last =='.':\n",
    "        new_id = new_id[:-1]\n",
    "    print('#4 ',new_id)\n",
    "    #5\n",
    "    if len(new_id) == 0:\n",
    "        new_id = 'a'\n",
    "    print('#5 ',new_id)\n",
    "    #6\n",
    "    if len(new_id) >= 16:\n",
    "        new_id = new_id[:15]\n",
    "        last = new_id[-1:]\n",
    "        if last =='.':\n",
    "            new_id = new_id[:-1]\n",
    "    print('#6 ',new_id)\n",
    "    #7\n",
    "    while len(new_id) <= 2:\n",
    "        last = new_id[-1:]\n",
    "        new_id = new_id+last\n",
    "    print('#7 ',new_id,'\\n')\n",
    "    \n",
    "    return new_id\n",
    "    \n",
    "new_id_1 ='...!@BaT#*..y.abcdefghijklm'\n",
    "new_id_2 ='z-+.^.'\n",
    "new_id_3 ='=.='\n",
    "new_id_4 ='123_.def'\n",
    "new_id_5 ='abcdefghijklmn.p'\n",
    "practice_1(new_id_1)\n",
    "practice_1(new_id_2)\n",
    "practice_1(new_id_3)\n",
    "practice_1(new_id_4)\n",
    "practice_1(new_id_5)"
   ]
  },
  {
   "cell_type": "code",
   "execution_count": null,
   "id": "86770095",
   "metadata": {},
   "outputs": [],
   "source": [
    "# practice_2\n",
    "# orders\tcourse\tresult\n",
    "# [\"ABCFG\", \"AC\", \"CDE\", \"ACDE\", \"BCFG\", \"ACDEH\"]\t[2,3,4]\t[\"AC\", \"ACDE\", \"BCFG\", \"CDE\"]\n",
    "# [\"ABCDE\", \"AB\", \"CD\", \"ADE\", \"XYZ\", \"XYZ\", \"ACD\"]\t[2,3,5]\t[\"ACD\", \"AD\", \"ADE\", \"CD\", \"XYZ\"]\n",
    "# [\"XYZ\", \"XWY\", \"WXA\"]\t[2,3,4]\t[\"WX\", \"XY\"]"
   ]
  },
  {
   "cell_type": "code",
   "execution_count": 58,
   "id": "de87d332",
   "metadata": {},
   "outputs": [
    {
     "name": "stdout",
     "output_type": "stream",
     "text": [
      "['ABCFG' 'AC' 'ACDE' 'ACDEH' 'BCFG' 'CDE']\n"
     ]
    }
   ],
   "source": [
    "import numpy as np\n",
    "\n",
    "order = np.array([\"ABCFG\", \"AC\", \"CDE\", \"ACDE\", \"BCFG\", \"ACDEH\"])\n",
    "a = np.array(['AB','AC','AD','AE','BC','BD',\"BE\"])\n",
    "print(np.unique(order))"
   ]
  },
  {
   "cell_type": "code",
   "execution_count": null,
   "id": "05057095",
   "metadata": {},
   "outputs": [],
   "source": []
  }
 ],
 "metadata": {
  "kernelspec": {
   "display_name": "Python 3",
   "language": "python",
   "name": "python3"
  },
  "language_info": {
   "codemirror_mode": {
    "name": "ipython",
    "version": 3
   },
   "file_extension": ".py",
   "mimetype": "text/x-python",
   "name": "python",
   "nbconvert_exporter": "python",
   "pygments_lexer": "ipython3",
   "version": "3.7.10"
  }
 },
 "nbformat": 4,
 "nbformat_minor": 5
}
